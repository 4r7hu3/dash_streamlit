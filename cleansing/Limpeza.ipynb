{
 "cells": [
  {
   "cell_type": "code",
   "execution_count": null,
   "id": "c1990402-3dda-4dcc-af37-d9d8636f6481",
   "metadata": {},
   "outputs": [],
   "source": [
    "import pandas as pd\n",
    "import re"
   ]
  },
  {
   "cell_type": "markdown",
   "id": "339a3788-c7d8-4f4a-9d55-12b3e2a5e75d",
   "metadata": {},
   "source": [
    "## Dados de Venda"
   ]
  },
  {
   "cell_type": "code",
   "execution_count": null,
   "id": "cf2d3476-27d5-4daa-882d-948e879e54ce",
   "metadata": {},
   "outputs": [],
   "source": [
    "dados_vendas = pd.read_table('dados_vendas.txt')\n",
    "dados_vendas"
   ]
  },
  {
   "cell_type": "code",
   "execution_count": null,
   "id": "583ac67f-d2b5-4d42-a6d0-698d5e8dea2d",
   "metadata": {},
   "outputs": [],
   "source": [
    "dados_vendas.info()"
   ]
  },
  {
   "cell_type": "code",
   "execution_count": null,
   "id": "223c1631-f5c9-4505-95b2-1116a3e25988",
   "metadata": {},
   "outputs": [],
   "source": [
    "dados_vendas.isna().sum()"
   ]
  },
  {
   "cell_type": "markdown",
   "id": "a323d17c-366e-4909-a7a1-c75187c6e84d",
   "metadata": {},
   "source": [
    "## Dados do Produto"
   ]
  },
  {
   "cell_type": "code",
   "execution_count": null,
   "id": "e5faf0a0-43db-403c-97e8-4a36c6d94f6e",
   "metadata": {},
   "outputs": [],
   "source": [
    "dados_produtos = pd.read_table('dados_produtos.txt')\n",
    "dados_produtos"
   ]
  },
  {
   "cell_type": "code",
   "execution_count": null,
   "id": "8be394e6-8268-44d5-b50b-3e32d8834662",
   "metadata": {},
   "outputs": [],
   "source": [
    "dados_produtos.info()"
   ]
  },
  {
   "cell_type": "code",
   "execution_count": null,
   "id": "4f25d32a-6c4e-4e01-abb3-e6fdd3c3b92f",
   "metadata": {},
   "outputs": [],
   "source": [
    "dados_produtos.isna().sum()"
   ]
  },
  {
   "cell_type": "markdown",
   "id": "e3cd73af-11c8-4f5f-b7a5-936516255f84",
   "metadata": {},
   "source": [
    "## Etapas da limpeza\n",
    "\n",
    "1. consertar os id's em ambas as bases\n",
    "\n",
    "2. renomear as colunas na base **VENDAS**\n",
    "\n",
    "3. consertar nomes dos produtos nas bases\n",
    "\n",
    "4. substituir valores NA/NaN e consertar nomes da base **PRODUTOS**\n",
    "\n",
    "5. fazer um join das bases\n",
    "\n",
    "6. transformar wide ---> long para facilitar cálculos com o tempo"
   ]
  },
  {
   "cell_type": "markdown",
   "id": "f2271549-0e1c-4df4-82a4-f391ed126e5f",
   "metadata": {},
   "source": [
    "## Etapa 1"
   ]
  },
  {
   "cell_type": "code",
   "execution_count": null,
   "id": "c93d605e-a063-438c-8fda-60095a38c4b8",
   "metadata": {},
   "outputs": [],
   "source": [
    "# dados_vendas\n",
    "dados_vendas['ID_FERTILIZANTE'] = [s[-2:] for s in dados_vendas['ID_FERTILIZANTE']]\n",
    "dados_vendas"
   ]
  },
  {
   "cell_type": "code",
   "execution_count": null,
   "id": "e2092c66-8d2c-404d-ae90-b296655ddc6d",
   "metadata": {},
   "outputs": [],
   "source": [
    "# dados_produtos\n",
    "dados_produtos['ID_FERTILIZANTE'] = [s[-2:] for s in dados_produtos['ID_FERTILIZANTE']]\n",
    "dados_produtos"
   ]
  },
  {
   "cell_type": "code",
   "execution_count": null,
   "id": "5cb5ee80-8812-4c4f-84ca-4856b22de47d",
   "metadata": {},
   "outputs": [],
   "source": [
    "dados_vendas.sort_values(by='ID_FERTILIZANTE')"
   ]
  },
  {
   "cell_type": "code",
   "execution_count": null,
   "id": "a0d0a8ec-298a-4e88-a90b-5bc94f91a5a0",
   "metadata": {},
   "outputs": [],
   "source": [
    "# removendo nomes e deixando apenas os id's\n",
    "dados_produtos.drop(columns=['NOME'], inplace=True)\n",
    "dados_produtos"
   ]
  },
  {
   "cell_type": "markdown",
   "id": "e2fbd27e-23df-434b-863e-7e24377f26a7",
   "metadata": {},
   "source": [
    "## Etapas 2 e 3"
   ]
  },
  {
   "cell_type": "code",
   "execution_count": null,
   "id": "a5a44a81-200f-4b69-88c0-62d73a87c82c",
   "metadata": {},
   "outputs": [],
   "source": [
    "dados_vendas.rename(columns={'FATURAMENTO_JAN_23':1,\n",
    "                            'FATURAMENTO_FEV_23':2,\n",
    "                            'FATURAMENTO_MAR_23':3,\n",
    "                            'FATURAMENTO_ABR_23':4,\n",
    "                            'FATURAMENTO_MAI_23':5,\n",
    "                            'FATURAMENTO_JUN_23':6,\n",
    "                            'FATURAMENTO_JUL_23':7,\n",
    "                            'FATURAMENTO_AGO_23':8,\n",
    "                            'FATURAMENTO_SET_23':9,\n",
    "                            'FATURAMENTO_OUT_23':10,\n",
    "                            'FATURAMENTO_NOV_23':11,\n",
    "                            'FATURAMENTO_DEZ_23':12}, inplace=True)\n",
    "dados_vendas"
   ]
  },
  {
   "cell_type": "code",
   "execution_count": null,
   "id": "e9dcd7a1-e7a1-45ba-bd2a-3d136a36dbd6",
   "metadata": {},
   "outputs": [],
   "source": [
    "dados_vendas['NOME'] = [s.strip() for s in dados_vendas['NOME']]\n",
    "dados_vendas"
   ]
  },
  {
   "cell_type": "markdown",
   "id": "760d864c-1b59-4e42-925a-6d641156a7dc",
   "metadata": {},
   "source": [
    "## Etapa 4"
   ]
  },
  {
   "cell_type": "code",
   "execution_count": null,
   "id": "124988c1-8ca0-4653-b7a3-e8376fc5d07c",
   "metadata": {},
   "outputs": [],
   "source": [
    "dados_vendas.isna().sum()"
   ]
  },
  {
   "cell_type": "code",
   "execution_count": null,
   "id": "91bceb0e-8a9f-4764-9449-a755e6ec7fab",
   "metadata": {},
   "outputs": [],
   "source": [
    "dados_vendas.fillna(0, inplace=True)\n",
    "dados_vendas"
   ]
  },
  {
   "cell_type": "code",
   "execution_count": null,
   "id": "ce73788a-4d10-4f99-b9c8-7b50648d78b1",
   "metadata": {},
   "outputs": [],
   "source": [
    "dados_produtos.replace({'SintÃ©tico':'Sintático', 'OrgÃ¢nico':'Orgnânico', 'MÃ©dia':'Média', 'MÃ©dio':'Médio', 'AspersÃ£o':'Aspersão', 'RÃ¡pido':'Rápido'}, inplace=True)\n",
    "dados_produtos"
   ]
  },
  {
   "cell_type": "code",
   "execution_count": null,
   "id": "7267546f-5ee4-4a60-a28d-a44d0a5db081",
   "metadata": {},
   "outputs": [],
   "source": [
    "# base vendas\n",
    "dados_vendas['PRECO_MEDIO_GALAO_2022'] = [float(re.sub(',', '.', s)) for s in dados_vendas['PRECO_MEDIO_GALAO_2022']]\n",
    "dados_vendas['PRECO_MEDIO_GALAO_2023'] = [float(re.sub(',', '.', s)) for s in dados_vendas['PRECO_MEDIO_GALAO_2023']]\n",
    "dados_vendas"
   ]
  },
  {
   "cell_type": "markdown",
   "id": "e2fca6c8-ae65-4237-a5fe-b3ec74bca440",
   "metadata": {},
   "source": [
    "## Etapa 5"
   ]
  },
  {
   "cell_type": "code",
   "execution_count": null,
   "id": "df416d18-7170-4d46-ba2d-dd6066745841",
   "metadata": {},
   "outputs": [],
   "source": [
    "dados_cruzados = dados_vendas.merge(dados_produtos, on='ID_FERTILIZANTE')\n",
    "dados_cruzados"
   ]
  },
  {
   "cell_type": "code",
   "execution_count": null,
   "id": "6a1f875f-9aef-492e-ab5e-284bdd4c5bf8",
   "metadata": {},
   "outputs": [],
   "source": [
    "dados_cruzados.info()"
   ]
  },
  {
   "cell_type": "markdown",
   "id": "90e8cdb6-c6d9-4dcb-b4fc-bbd8e61a30a5",
   "metadata": {},
   "source": [
    "## Etapa 6"
   ]
  },
  {
   "cell_type": "code",
   "execution_count": null,
   "id": "02099004-8ccb-4ad0-8658-8bd88f1cf714",
   "metadata": {},
   "outputs": [],
   "source": [
    "id_vars = list(dados_cruzados.iloc[:,:4].columns) + list(dados_cruzados.iloc[:,16:].columns)\n",
    "id_vars"
   ]
  },
  {
   "cell_type": "code",
   "execution_count": null,
   "id": "cbc9815b-1f51-42f4-bf64-6982bffd9ef6",
   "metadata": {},
   "outputs": [],
   "source": [
    "value_vars = list(dados_cruzados.iloc[:,4:16])\n",
    "value_vars"
   ]
  },
  {
   "cell_type": "code",
   "execution_count": null,
   "id": "63a8755b-a0f9-4472-a7a6-9be97b0984dd",
   "metadata": {},
   "outputs": [],
   "source": [
    "dados_melt = dados_cruzados.melt(id_vars=id_vars, value_vars=value_vars, value_name='Faturamento', var_name='Mês')\n",
    "dados_melt"
   ]
  },
  {
   "cell_type": "code",
   "execution_count": null,
   "id": "496d7d2c-aff3-4f1f-835a-3dba310f32c8",
   "metadata": {},
   "outputs": [],
   "source": [
    "dados_melt.groupby(['Mês'])['Faturamento'].agg(['sum', 'mean'])"
   ]
  },
  {
   "cell_type": "code",
   "execution_count": null,
   "id": "c220de3c-3eef-4f57-a6d4-200e7b656f42",
   "metadata": {},
   "outputs": [],
   "source": [
    "dados_melt.to_csv('VendaProduto.csv', index=False)"
   ]
  }
 ],
 "metadata": {
  "kernelspec": {
   "display_name": "Python 3 (ipykernel)",
   "language": "python",
   "name": "python3"
  },
  "language_info": {
   "codemirror_mode": {
    "name": "ipython",
    "version": 3
   },
   "file_extension": ".py",
   "mimetype": "text/x-python",
   "name": "python",
   "nbconvert_exporter": "python",
   "pygments_lexer": "ipython3",
   "version": "3.9.18"
  }
 },
 "nbformat": 4,
 "nbformat_minor": 5
}
